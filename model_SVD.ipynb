{
 "cells": [
  {
   "cell_type": "code",
   "execution_count": 2,
   "metadata": {},
   "outputs": [],
   "source": [
    "import tensorflow as tf\n",
    "import numpy as np\n",
    "import faiss\n",
    "import pandas as pd "
   ]
  },
  {
   "cell_type": "code",
   "execution_count": 3,
   "metadata": {},
   "outputs": [],
   "source": [
    "songs = pd.read_csv('input/songs.csv')\n",
    "song_extra_info = pd.read_csv('input/song_extra_info.csv')"
   ]
  },
  {
   "cell_type": "code",
   "execution_count": 15,
   "metadata": {},
   "outputs": [],
   "source": [
    "train_df = pd.read_csv('preprocess/train.csv')\n",
    "val_df = pd.read_csv('preprocess/val.csv')"
   ]
  },
  {
   "cell_type": "code",
   "execution_count": 17,
   "metadata": {},
   "outputs": [],
   "source": [
    "# msno, song_id 编码\n",
    "from sklearn.preprocessing import LabelEncoder\n",
    "def encode_label(train_df, val_df, field):\n",
    "    le = LabelEncoder()\n",
    "    le.fit(list(train_df[field].unique()) + list(val_df[field].unique()))\n",
    "    train_df[field] = le.transform(train_df[field])\n",
    "    val_df[field] = le.transform(val_df[field])\n",
    "    return train_df, val_df\n",
    "\n",
    "train_df, val_df  = encode_label(train_df, val_df, 'msno')\n",
    "train_df, val_df = encode_label(train_df, val_df, 'song_id')"
   ]
  },
  {
   "cell_type": "code",
   "execution_count": 18,
   "metadata": {},
   "outputs": [],
   "source": [
    "from sklearn.decomposition import TruncatedSVD\n",
    "from scipy.sparse import csr_matrix\n",
    "label, user_idx, song_idx = train_df['target'].values, train_df['msno'].values, train_df['song_id'].values\n",
    "\n",
    "song_user_matrix = csr_matrix((label, (song_idx, user_idx)))\n",
    "\n",
    "dimension = 16\n",
    "svd = TruncatedSVD(n_components=dimension)\n",
    "song_vec = svd.fit_transform(song_user_matrix)\n",
    "\n",
    "svd_columns = ['song_id'] + ['song_svd_' + str(c) for c in range(dimension)]\n",
    "song_vec_pretrain = pd.DataFrame(np.concatenate([np.reshape(range(len(song_vec)), [-1, 1]), song_vec], axis=1), \n",
    "                                 columns=svd_columns)"
   ]
  }
 ],
 "metadata": {
  "kernelspec": {
   "display_name": "Python 3",
   "language": "python",
   "name": "python3"
  },
  "language_info": {
   "codemirror_mode": {
    "name": "ipython",
    "version": 3
   },
   "file_extension": ".py",
   "mimetype": "text/x-python",
   "name": "python",
   "nbconvert_exporter": "python",
   "pygments_lexer": "ipython3",
   "version": "3.8.3"
  },
  "toc": {
   "base_numbering": 1,
   "nav_menu": {},
   "number_sections": true,
   "sideBar": true,
   "skip_h1_title": false,
   "title_cell": "Table of Contents",
   "title_sidebar": "Contents",
   "toc_cell": false,
   "toc_position": {},
   "toc_section_display": true,
   "toc_window_display": false
  }
 },
 "nbformat": 4,
 "nbformat_minor": 4
}
