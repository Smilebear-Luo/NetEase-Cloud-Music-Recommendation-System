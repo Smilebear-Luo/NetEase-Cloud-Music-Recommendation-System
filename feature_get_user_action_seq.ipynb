{
 "cells": [
  {
   "cell_type": "code",
   "execution_count": 1,
   "metadata": {},
   "outputs": [],
   "source": [
    "import pandas as pd\n",
    "import numpy as np\n",
    "from tqdm import tqdm"
   ]
  },
  {
   "cell_type": "code",
   "execution_count": 2,
   "metadata": {},
   "outputs": [],
   "source": [
    "train_data=pd.read_csv(\"preprocess/train.csv\")\n",
    "val_data=pd.read_csv(\"preprocess/val.csv\")"
   ]
  },
  {
   "cell_type": "code",
   "execution_count": 5,
   "metadata": {},
   "outputs": [],
   "source": [
    "data = pd.concat([train_data,val_data])"
   ]
  },
  {
   "cell_type": "code",
   "execution_count": 16,
   "metadata": {},
   "outputs": [],
   "source": [
    "data = data.loc[:,['msno','song_id','global_index']]"
   ]
  },
  {
   "cell_type": "code",
   "execution_count": 17,
   "metadata": {},
   "outputs": [],
   "source": [
    "seq_length = 10"
   ]
  },
  {
   "cell_type": "code",
   "execution_count": 20,
   "metadata": {},
   "outputs": [],
   "source": [
    "def get_seq(seq,index,seq_length):\n",
    "    if index==0:\n",
    "        return \"\"\n",
    "    start_index = max(0,index-seq_length)\n",
    "    sub_seq = seq[start_index:index]\n",
    "    return ','.join([str(x) for x in sub_seq])"
   ]
  },
  {
   "cell_type": "code",
   "execution_count": 21,
   "metadata": {},
   "outputs": [
    {
     "name": "stderr",
     "output_type": "stream",
     "text": [
      "100%|██████████| 30755/30755 [02:46<00:00, 184.46it/s]\n"
     ]
    }
   ],
   "source": [
    "pd_list = []\n",
    "for i,df in tqdm(data.groupby(by=['msno'])):\n",
    "    t = df.sort_values(by=\"global_index\",ascending=True).reset_index()\n",
    "    t['user_index'] = t.index\n",
    "    seq = t['song_id'].values\n",
    "    t['song_seq'] = t['user_index'].apply(lambda x:get_seq(seq,x,seq_length))\n",
    "    t = t.loc[:,[\"msno\",\"user_index\",\"song_seq\",\"global_index\"]]\n",
    "    pd_list.append(t)"
   ]
  },
  {
   "cell_type": "code",
   "execution_count": 22,
   "metadata": {},
   "outputs": [],
   "source": [
    "data = pd.concat(pd_list)"
   ]
  },
  {
   "cell_type": "code",
   "execution_count": 23,
   "metadata": {},
   "outputs": [],
   "source": [
    "data.to_csv(\"feature/user_action_seq_feature\",index=False)"
   ]
  }
 ],
 "metadata": {
  "kernelspec": {
   "display_name": "Python 3",
   "language": "python",
   "name": "python3"
  },
  "language_info": {
   "codemirror_mode": {
    "name": "ipython",
    "version": 3
   },
   "file_extension": ".py",
   "mimetype": "text/x-python",
   "name": "python",
   "nbconvert_exporter": "python",
   "pygments_lexer": "ipython3",
   "version": "3.8.3"
  },
  "toc": {
   "base_numbering": 1,
   "nav_menu": {},
   "number_sections": true,
   "sideBar": true,
   "skip_h1_title": false,
   "title_cell": "Table of Contents",
   "title_sidebar": "Contents",
   "toc_cell": false,
   "toc_position": {},
   "toc_section_display": true,
   "toc_window_display": false
  }
 },
 "nbformat": 4,
 "nbformat_minor": 4
}
